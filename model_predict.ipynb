{
 "cells": [
  {
   "cell_type": "code",
   "execution_count": null,
   "metadata": {},
   "outputs": [],
   "source": [
    "from ultralytics import YOLO\n",
    "import opencv_jupyter_ui as jcv2\n",
    "\n",
    "# Load a model\n",
    "model = YOLO('/home/students/cs/greenery/yolov8/separate_model/train/weights/best.pt')  # pretrained YOLOv8n model\n",
    "\n",
    "# Run batched inference on a list of images\n",
    "results = model(\n",
    "    [\n",
    "    '/home/students/cs/greenery/yolov8/test_img/test1.jpg'\n",
    "    ],\n",
    "    save=True,\n",
    "    #conf=0.5,\n",
    "    project='/home/students/cs/greenery/yolov8/separate_model'\n",
    ")  # return a list of Results objects\n",
    "\n",
    "# Process results list\n",
    "for result in results:\n",
    "    boxes = result.boxes  # Boxes object for bbox outputs\n",
    "    masks = result.masks  # Masks object for segmentation masks outputs\n",
    "    keypoints = result.keypoints  # Keypoints object for pose outputs\n",
    "    probs = result.probs  # Probs object for classification outputs\n",
    "\n",
    "    plots = result.plot()\n",
    "    jcv2.imshow(\"plot\", plots)\n",
    "    jcv2.waitKey(100)\n",
    "    jcv2.destroyAllWindows()"
   ]
  }
 ],
 "metadata": {
  "language_info": {
   "name": "python"
  }
 },
 "nbformat": 4,
 "nbformat_minor": 2
}
