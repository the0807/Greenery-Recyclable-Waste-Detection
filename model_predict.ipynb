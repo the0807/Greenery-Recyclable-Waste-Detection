{
 "cells": [
  {
   "cell_type": "code",
   "execution_count": 4,
   "metadata": {},
   "outputs": [
    {
     "name": "stdout",
     "output_type": "stream",
     "text": [
      "\n",
      "0: 640x480 1 의자, 1 협탁, 6.2ms\n",
      "Speed: 3.2ms preprocess, 6.2ms inference, 0.7ms postprocess per image at shape (1, 3, 640, 480)\n",
      "Results saved to \u001b[1m/home/students/cs/greenery/yolov8/separate_model/predict5\u001b[0m\n",
      "ultralytics.engine.results.Results object with attributes:\n",
      "\n",
      "boxes: ultralytics.engine.results.Boxes object\n",
      "keypoints: None\n",
      "masks: None\n",
      "names: {0: '밥상', 1: '서랍장', 2: '소파', 3: '수납장', 4: '싱크대', 5: '의자', 6: '장롱', 7: '책상', 8: '침대', 9: '협탁', 10: '화장대', 11: '바구니', 12: '두발자전거', 13: '대용량플라스틱통'}\n",
      "obb: None\n",
      "orig_img: array([[[ 18,  13,  14],\n",
      "        [ 17,  12,  13],\n",
      "        [ 11,   9,   9],\n",
      "        ...,\n",
      "        [161, 156, 157],\n",
      "        [171, 167, 166],\n",
      "        [171, 167, 166]],\n",
      "\n",
      "       [[  9,   4,   5],\n",
      "        [ 16,  11,  12],\n",
      "        [ 17,  15,  15],\n",
      "        ...,\n",
      "        [139, 137, 137],\n",
      "        [160, 155, 156],\n",
      "        [165, 160, 161]],\n",
      "\n",
      "       [[ 23,  18,  19],\n",
      "        [ 23,  21,  21],\n",
      "        [ 18,  16,  16],\n",
      "        ...,\n",
      "        [164, 162, 162],\n",
      "        [176, 174, 174],\n",
      "        [168, 166, 166]],\n",
      "\n",
      "       ...,\n",
      "\n",
      "       [[186, 201, 204],\n",
      "        [164, 178, 184],\n",
      "        [156, 168, 174],\n",
      "        ...,\n",
      "        [168, 177, 186],\n",
      "        [164, 175, 183],\n",
      "        [161, 172, 180]],\n",
      "\n",
      "       [[168, 182, 188],\n",
      "        [158, 170, 176],\n",
      "        [148, 157, 166],\n",
      "        ...,\n",
      "        [171, 182, 190],\n",
      "        [178, 189, 197],\n",
      "        [156, 167, 175]],\n",
      "\n",
      "       [[163, 177, 183],\n",
      "        [119, 131, 137],\n",
      "        [120, 129, 138],\n",
      "        ...,\n",
      "        [178, 189, 197],\n",
      "        [188, 199, 207],\n",
      "        [166, 177, 185]]], dtype=uint8)\n",
      "orig_shape: (1706, 1280)\n",
      "path: '/home/students/cs/greenery/server/app/static/test1.jpg'\n",
      "probs: None\n",
      "save_dir: '/home/students/cs/greenery/yolov8/separate_model/predict5'\n",
      "speed: {'preprocess': 3.1735897064208984, 'inference': 6.247997283935547, 'postprocess': 0.7390975952148438}\n"
     ]
    },
    {
     "data": {
      "application/vnd.jupyter.widget-view+json": {
       "model_id": "91ca400305de4be895bc3cf58822d21a",
       "version_major": 2,
       "version_minor": 0
      },
      "text/plain": [
       "HBox(children=(Button(button_style='danger', description='Stop', style=ButtonStyle()), HBox(children=(Label(va…"
      ]
     },
     "metadata": {},
     "output_type": "display_data"
    },
    {
     "data": {
      "application/vnd.jupyter.widget-view+json": {
       "model_id": "d35c8e659da34c8a808a248312155b90",
       "version_major": 2,
       "version_minor": 0
      },
      "text/plain": [
       "HBox(children=(Button(button_style='danger', description='Stop', style=ButtonStyle()), HBox(children=(Label(va…"
      ]
     },
     "metadata": {},
     "output_type": "display_data"
    },
    {
     "data": {
      "application/vnd.jupyter.widget-view+json": {
       "model_id": "18d6c041102f4830a7b406cf3174a28d",
       "version_major": 2,
       "version_minor": 0
      },
      "text/plain": [
       "VBox(children=(HTML(value='<center>plot</center>'), Canvas()), layout=Layout(border_bottom='1.5px solid', bord…"
      ]
     },
     "metadata": {},
     "output_type": "display_data"
    }
   ],
   "source": [
    "from ultralytics import YOLO\n",
    "import opencv_jupyter_ui as jcv2\n",
    "\n",
    "# Load a model\n",
    "model = YOLO('/home/students/cs/greenery/yolov8/separate_model/train/weights/best.pt')  # pretrained YOLOv8n model\n",
    "\n",
    "# Run batched inference on a list of images\n",
    "results = model(\n",
    "    [\n",
    "    \"/home/students/cs/greenery/server/app/static/test1.jpg\"\n",
    "    ],\n",
    "    save=True,\n",
    "    #conf=0.5,\n",
    "    project='/home/students/cs/greenery/yolov8/separate_model'\n",
    ")  # return a list of Results objects\n",
    "\n",
    "# Process results list\n",
    "for result in results:\n",
    "    boxes = result.boxes  # Boxes object for bbox outputs\n",
    "    masks = result.masks  # Masks object for segmentation masks outputs\n",
    "    keypoints = result.keypoints  # Keypoints object for pose outputs\n",
    "    probs = result.probs  # Probs object for classification outputs\n",
    "    print(result.boxes)\n",
    "    plots = result.plot()\n",
    "    jcv2.imshow(\"plot\", plots)\n",
    "    jcv2.waitKey(100)\n",
    "    jcv2.destroyAllWindows()"
   ]
  },
  {
   "cell_type": "code",
   "execution_count": null,
   "metadata": {},
   "outputs": [],
   "source": []
  }
 ],
 "metadata": {
  "kernelspec": {
   "display_name": "ADViS",
   "language": "python",
   "name": "python3"
  },
  "language_info": {
   "codemirror_mode": {
    "name": "ipython",
    "version": 3
   },
   "file_extension": ".py",
   "mimetype": "text/x-python",
   "name": "python",
   "nbconvert_exporter": "python",
   "pygments_lexer": "ipython3",
   "version": "3.10.13"
  }
 },
 "nbformat": 4,
 "nbformat_minor": 2
}
